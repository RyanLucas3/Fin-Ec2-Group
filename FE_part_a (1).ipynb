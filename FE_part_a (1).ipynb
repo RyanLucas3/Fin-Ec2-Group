{
 "cells": [
  {
   "cell_type": "code",
   "execution_count": 105,
   "source": [
    "# from NS_source import *\n",
    "import numpy as np\n",
    "import matplotlib.pyplot as plt\n",
    "from matplotlib.pyplot import plot, scatter\n",
    "import pandas as pd\n",
    "import numpy as np\n",
    "from numpy import exp\n",
    "from numpy.linalg import lstsq\n",
    "from scipy.optimize import minimize\n",
    "from scipy.optimize import fsolve\n",
    "import warnings\n",
    "warnings.filterwarnings(\"ignore\")"
   ],
   "outputs": [],
   "metadata": {}
  },
  {
   "cell_type": "code",
   "execution_count": 106,
   "source": [
    "df = pd.read_csv('/Users/ryanlucas/Desktop/Bond Data - CSV.csv', index_col = \"Unnamed: 0\")\n",
    "df['Weeks to Maturity'] = df[\"Days to Maturity\"]/7\n",
    "df[\"Tenor Number\"] = [4, 8, 12, 24, 1*52, 2*52, 3*52, 5*52, 7*52, 10*52, 20*52, 30*52]\n",
    "df"
   ],
   "outputs": [
    {
     "output_type": "execute_result",
     "data": {
      "text/html": [
       "<div>\n",
       "<style scoped>\n",
       "    .dataframe tbody tr th:only-of-type {\n",
       "        vertical-align: middle;\n",
       "    }\n",
       "\n",
       "    .dataframe tbody tr th {\n",
       "        vertical-align: top;\n",
       "    }\n",
       "\n",
       "    .dataframe thead th {\n",
       "        text-align: right;\n",
       "    }\n",
       "</style>\n",
       "<table border=\"1\" class=\"dataframe\">\n",
       "  <thead>\n",
       "    <tr style=\"text-align: right;\">\n",
       "      <th></th>\n",
       "      <th>Tenor</th>\n",
       "      <th>CUSIP</th>\n",
       "      <th>Description</th>\n",
       "      <th>Maturity Date</th>\n",
       "      <th>Price</th>\n",
       "      <th>Yield</th>\n",
       "      <th>Source</th>\n",
       "      <th>Update</th>\n",
       "      <th>Days to Maturity</th>\n",
       "      <th>Market Price</th>\n",
       "      <th>Coupon</th>\n",
       "      <th>Years to Maturity</th>\n",
       "      <th>Weeks to Maturity</th>\n",
       "      <th>Tenor Number</th>\n",
       "    </tr>\n",
       "  </thead>\n",
       "  <tbody>\n",
       "    <tr>\n",
       "      <th>0</th>\n",
       "      <td>1M</td>\n",
       "      <td>912796R9@BGN  Govt</td>\n",
       "      <td>B 0 02/22/22 Govt</td>\n",
       "      <td>22/02/2022</td>\n",
       "      <td>0.0313</td>\n",
       "      <td>0.0317</td>\n",
       "      <td>BGN</td>\n",
       "      <td>26/01/2022</td>\n",
       "      <td>27</td>\n",
       "      <td>99.9976</td>\n",
       "      <td>0.00</td>\n",
       "      <td>0.083333</td>\n",
       "      <td>3.857143</td>\n",
       "      <td>4</td>\n",
       "    </tr>\n",
       "    <tr>\n",
       "      <th>1</th>\n",
       "      <td>2M</td>\n",
       "      <td>912796S9@BGN  Govt</td>\n",
       "      <td>B 0 03/22/22 Govt</td>\n",
       "      <td>22/03/2022</td>\n",
       "      <td>0.0838</td>\n",
       "      <td>0.0849</td>\n",
       "      <td>BGN</td>\n",
       "      <td>26/01/2022</td>\n",
       "      <td>55</td>\n",
       "      <td>99.9870</td>\n",
       "      <td>0.00</td>\n",
       "      <td>0.166667</td>\n",
       "      <td>7.857143</td>\n",
       "      <td>8</td>\n",
       "    </tr>\n",
       "    <tr>\n",
       "      <th>2</th>\n",
       "      <td>3M</td>\n",
       "      <td>912796P3@BGN  Govt</td>\n",
       "      <td>B 0 04/28/22 Govt</td>\n",
       "      <td>28/04/2022</td>\n",
       "      <td>0.1925</td>\n",
       "      <td>0.1953</td>\n",
       "      <td>BGN</td>\n",
       "      <td>26/01/2022</td>\n",
       "      <td>92</td>\n",
       "      <td>99.9501</td>\n",
       "      <td>0.00</td>\n",
       "      <td>0.250000</td>\n",
       "      <td>13.142857</td>\n",
       "      <td>12</td>\n",
       "    </tr>\n",
       "    <tr>\n",
       "      <th>3</th>\n",
       "      <td>6M</td>\n",
       "      <td>912796S5@BGN  Govt</td>\n",
       "      <td>B 0 07/28/22 Govt</td>\n",
       "      <td>28/07/2022</td>\n",
       "      <td>0.3988</td>\n",
       "      <td>0.4051</td>\n",
       "      <td>BGN</td>\n",
       "      <td>26/01/2022</td>\n",
       "      <td>183</td>\n",
       "      <td>99.7941</td>\n",
       "      <td>0.00</td>\n",
       "      <td>0.500000</td>\n",
       "      <td>26.142857</td>\n",
       "      <td>24</td>\n",
       "    </tr>\n",
       "    <tr>\n",
       "      <th>4</th>\n",
       "      <td>1Y</td>\n",
       "      <td>912796S3@BGN  Govt</td>\n",
       "      <td>B 0 01/26/23 Govt</td>\n",
       "      <td>26/01/2023</td>\n",
       "      <td>0.6938</td>\n",
       "      <td>0.7071</td>\n",
       "      <td>BGN</td>\n",
       "      <td>26/01/2022</td>\n",
       "      <td>365</td>\n",
       "      <td>99.2831</td>\n",
       "      <td>0.00</td>\n",
       "      <td>1.000000</td>\n",
       "      <td>52.142857</td>\n",
       "      <td>52</td>\n",
       "    </tr>\n",
       "    <tr>\n",
       "      <th>5</th>\n",
       "      <td>2Y</td>\n",
       "      <td>91282CDV@BGN  Govt</td>\n",
       "      <td>T 0 ⅞ 01/31/24  Govt</td>\n",
       "      <td>31/01/2024</td>\n",
       "      <td>99.4512</td>\n",
       "      <td>1.1534</td>\n",
       "      <td>BGN</td>\n",
       "      <td>26/01/2022</td>\n",
       "      <td>735</td>\n",
       "      <td>99.4512</td>\n",
       "      <td>0.88</td>\n",
       "      <td>2.000000</td>\n",
       "      <td>105.000000</td>\n",
       "      <td>104</td>\n",
       "    </tr>\n",
       "    <tr>\n",
       "      <th>6</th>\n",
       "      <td>3Y</td>\n",
       "      <td>91282CDS@BGN  Govt</td>\n",
       "      <td>T 1 ⅛ 01/15/25  Govt</td>\n",
       "      <td>15/01/2025</td>\n",
       "      <td>99.1992</td>\n",
       "      <td>1.4015</td>\n",
       "      <td>BGN</td>\n",
       "      <td>26/01/2022</td>\n",
       "      <td>1085</td>\n",
       "      <td>99.1992</td>\n",
       "      <td>1.13</td>\n",
       "      <td>3.000000</td>\n",
       "      <td>155.000000</td>\n",
       "      <td>156</td>\n",
       "    </tr>\n",
       "    <tr>\n",
       "      <th>7</th>\n",
       "      <td>5Y</td>\n",
       "      <td>912828Z7@BGN  Govt</td>\n",
       "      <td>T 1 ½ 01/31/27  Govt</td>\n",
       "      <td>31/01/2027</td>\n",
       "      <td>99.1133</td>\n",
       "      <td>1.6853</td>\n",
       "      <td>BGN</td>\n",
       "      <td>26/01/2022</td>\n",
       "      <td>1831</td>\n",
       "      <td>99.1133</td>\n",
       "      <td>1.50</td>\n",
       "      <td>5.000000</td>\n",
       "      <td>261.571429</td>\n",
       "      <td>260</td>\n",
       "    </tr>\n",
       "    <tr>\n",
       "      <th>8</th>\n",
       "      <td>7Y</td>\n",
       "      <td>91282CDP@BGN  Govt</td>\n",
       "      <td>T 1 ⅜ 12/31/28  Govt</td>\n",
       "      <td>31/12/2028</td>\n",
       "      <td>97.0547</td>\n",
       "      <td>1.8297</td>\n",
       "      <td>BGN</td>\n",
       "      <td>26/01/2022</td>\n",
       "      <td>2531</td>\n",
       "      <td>97.0547</td>\n",
       "      <td>1.38</td>\n",
       "      <td>7.000000</td>\n",
       "      <td>361.571429</td>\n",
       "      <td>364</td>\n",
       "    </tr>\n",
       "    <tr>\n",
       "      <th>9</th>\n",
       "      <td>10Y</td>\n",
       "      <td>91282CDJ@BGN  Govt</td>\n",
       "      <td>T 1 ⅜ 11/15/31  Govt</td>\n",
       "      <td>15/11/2031</td>\n",
       "      <td>95.6172</td>\n",
       "      <td>1.8664</td>\n",
       "      <td>BGN</td>\n",
       "      <td>26/01/2022</td>\n",
       "      <td>3580</td>\n",
       "      <td>95.6172</td>\n",
       "      <td>1.38</td>\n",
       "      <td>10.000000</td>\n",
       "      <td>511.428571</td>\n",
       "      <td>520</td>\n",
       "    </tr>\n",
       "    <tr>\n",
       "      <th>10</th>\n",
       "      <td>20Y</td>\n",
       "      <td>912810TC@BGN  Govt</td>\n",
       "      <td>T 2 11/15/41 Govt</td>\n",
       "      <td>15/11/2041</td>\n",
       "      <td>96.2344</td>\n",
       "      <td>2.2364</td>\n",
       "      <td>BGN</td>\n",
       "      <td>26/01/2022</td>\n",
       "      <td>7233</td>\n",
       "      <td>96.2344</td>\n",
       "      <td>2.00</td>\n",
       "      <td>20.000000</td>\n",
       "      <td>1033.285714</td>\n",
       "      <td>1040</td>\n",
       "    </tr>\n",
       "    <tr>\n",
       "      <th>11</th>\n",
       "      <td>30Y</td>\n",
       "      <td>912810TB@BGN  Govt</td>\n",
       "      <td>T 1 ⅞ 11/15/51  Govt</td>\n",
       "      <td>15/11/2051</td>\n",
       "      <td>93.6250</td>\n",
       "      <td>2.1664</td>\n",
       "      <td>BGN</td>\n",
       "      <td>26/01/2022</td>\n",
       "      <td>10885</td>\n",
       "      <td>93.6250</td>\n",
       "      <td>1.88</td>\n",
       "      <td>30.000000</td>\n",
       "      <td>1555.000000</td>\n",
       "      <td>1560</td>\n",
       "    </tr>\n",
       "  </tbody>\n",
       "</table>\n",
       "</div>"
      ],
      "text/plain": [
       "   Tenor               CUSIP           Description Maturity Date    Price  \\\n",
       "0     1M  912796R9@BGN  Govt     B 0 02/22/22 Govt    22/02/2022   0.0313   \n",
       "1     2M  912796S9@BGN  Govt     B 0 03/22/22 Govt    22/03/2022   0.0838   \n",
       "2     3M  912796P3@BGN  Govt     B 0 04/28/22 Govt    28/04/2022   0.1925   \n",
       "3     6M  912796S5@BGN  Govt     B 0 07/28/22 Govt    28/07/2022   0.3988   \n",
       "4     1Y  912796S3@BGN  Govt     B 0 01/26/23 Govt    26/01/2023   0.6938   \n",
       "5     2Y  91282CDV@BGN  Govt  T 0 ⅞ 01/31/24  Govt    31/01/2024  99.4512   \n",
       "6     3Y  91282CDS@BGN  Govt  T 1 ⅛ 01/15/25  Govt    15/01/2025  99.1992   \n",
       "7     5Y  912828Z7@BGN  Govt  T 1 ½ 01/31/27  Govt    31/01/2027  99.1133   \n",
       "8     7Y  91282CDP@BGN  Govt  T 1 ⅜ 12/31/28  Govt    31/12/2028  97.0547   \n",
       "9    10Y  91282CDJ@BGN  Govt  T 1 ⅜ 11/15/31  Govt    15/11/2031  95.6172   \n",
       "10   20Y  912810TC@BGN  Govt     T 2 11/15/41 Govt    15/11/2041  96.2344   \n",
       "11   30Y  912810TB@BGN  Govt  T 1 ⅞ 11/15/51  Govt    15/11/2051  93.6250   \n",
       "\n",
       "     Yield Source      Update  Days to Maturity  Market Price  Coupon  \\\n",
       "0   0.0317   BGN   26/01/2022                27       99.9976    0.00   \n",
       "1   0.0849   BGN   26/01/2022                55       99.9870    0.00   \n",
       "2   0.1953   BGN   26/01/2022                92       99.9501    0.00   \n",
       "3   0.4051   BGN   26/01/2022               183       99.7941    0.00   \n",
       "4   0.7071   BGN   26/01/2022               365       99.2831    0.00   \n",
       "5   1.1534   BGN   26/01/2022               735       99.4512    0.88   \n",
       "6   1.4015   BGN   26/01/2022              1085       99.1992    1.13   \n",
       "7   1.6853   BGN   26/01/2022              1831       99.1133    1.50   \n",
       "8   1.8297   BGN   26/01/2022              2531       97.0547    1.38   \n",
       "9   1.8664   BGN   26/01/2022              3580       95.6172    1.38   \n",
       "10  2.2364   BGN   26/01/2022              7233       96.2344    2.00   \n",
       "11  2.1664   BGN   26/01/2022             10885       93.6250    1.88   \n",
       "\n",
       "    Years to Maturity  Weeks to Maturity  Tenor Number  \n",
       "0            0.083333           3.857143             4  \n",
       "1            0.166667           7.857143             8  \n",
       "2            0.250000          13.142857            12  \n",
       "3            0.500000          26.142857            24  \n",
       "4            1.000000          52.142857            52  \n",
       "5            2.000000         105.000000           104  \n",
       "6            3.000000         155.000000           156  \n",
       "7            5.000000         261.571429           260  \n",
       "8            7.000000         361.571429           364  \n",
       "9           10.000000         511.428571           520  \n",
       "10          20.000000        1033.285714          1040  \n",
       "11          30.000000        1555.000000          1560  "
      ]
     },
     "metadata": {},
     "execution_count": 106
    }
   ],
   "metadata": {}
  },
  {
   "cell_type": "markdown",
   "source": [
    "**Data Visualisation of original Yield Curve**"
   ],
   "metadata": {}
  },
  {
   "cell_type": "code",
   "execution_count": 107,
   "source": [
    "fig, ax = plt.subplots()\n",
    "fig.set_size_inches(13, 8)\n",
    "ax.plot(df['Years to Maturity'], df['Yield']/100,'rs',df['Years to Maturity'], df['Yield']/100,'b')\n",
    "ax.set_ylabel(\"Yield\", fontsize = 13)\n",
    "ax.set_xlabel(\"Years to Maturity\", fontsize = 13)\n",
    "ax.set_title(\"Original Yield Curve\", fontsize = 13)"
   ],
   "outputs": [
    {
     "output_type": "execute_result",
     "data": {
      "text/plain": [
       "Text(0.5, 1.0, 'Original Yield Curve')"
      ]
     },
     "metadata": {},
     "execution_count": 107
    },
    {
     "output_type": "display_data",
     "data": {
      "image/png": "[encoded data removed]",
      "text/plain": [
       "<Figure size 936x576 with 1 Axes>"
      ]
     },
     "metadata": {
      "needs_background": "light"
     }
    }
   ],
   "metadata": {}
  },
  {
   "cell_type": "markdown",
   "source": [
    "**Firstly, we need to construct the Nelson-Siegel factors according to the following formula:**"
   ],
   "metadata": {}
  },
  {
   "cell_type": "markdown",
   "source": [
    "$$F_{\\beta_1}(t)= \\frac{1 - \\exp(-\\frac{t}{\\tau})}{\\frac{t}{\\tau}}, \\quad F_{\\beta_2}(t) = \\frac{1 - \\exp(-\\frac{t}{\\tau})}{\\frac{t}{\\tau}} - \\exp(-\\frac{t}{\\tau})$$"
   ],
   "metadata": {}
  },
  {
   "cell_type": "markdown",
   "source": [
    "**These factors represent level, slope and curvature (also known as contango)**"
   ],
   "metadata": {}
  },
  {
   "cell_type": "code",
   "execution_count": 108,
   "source": [
    "def nelson_siegel_factors(t, tau):\n",
    "    noise = np.random.normal(0, 1)*0.00000000015\n",
    "\n",
    "    zero_maturity = t <= 0\n",
    "    t[zero_maturity] = noise\n",
    "    factor_beta_1 = (1 - exp(-t/tau)) / (t / tau)\n",
    "    factor_beta_2 = factor_beta_1 - exp(-t/tau)\n",
    "\n",
    "    t[zero_maturity] = 0\n",
    "    factor_beta_1[zero_maturity] = 1\n",
    "    factor_beta_2[zero_maturity] = 0\n",
    "\n",
    "    return factor_beta_1, factor_beta_2\n",
    "\n",
    "\n",
    "def collection_of_factors(t, tau):\n",
    "    factor_beta_1, factor_beta_2 = nelson_siegel_factors(t, tau)\n",
    "    const = np.ones(len(t))\n",
    "    return np.stack([const, factor_beta_1, factor_beta_2]).transpose()\n"
   ],
   "outputs": [],
   "metadata": {}
  },
  {
   "cell_type": "code",
   "execution_count": 109,
   "source": [
    "def zero_rates(t, beta_0, beta_1, beta_2, tau):\n",
    "    factor_beta_1, factor_beta_2 = nelson_siegel_factors(t, tau)\n",
    "    return beta_0 + beta_1*factor_beta_1 + beta_2*factor_beta_2"
   ],
   "outputs": [],
   "metadata": {}
  },
  {
   "cell_type": "code",
   "execution_count": 110,
   "source": [
    "def sum_of_squared_resids(tau, t, y):\n",
    "    curve, lstsq_res = get_spot_rate_iteration(tau, t, y)\n",
    "    return np.sum((curve - y)**2)"
   ],
   "outputs": [],
   "metadata": {}
  },
  {
   "cell_type": "markdown",
   "source": [
    "**The idea is to perform least squares minimisation over the parameters corresponding to these factors in order to minimise the distance between the factor-constructed curve and the original yields. This corresponds to the following optimisation:**"
   ],
   "metadata": {}
  },
  {
   "cell_type": "markdown",
   "source": [
    "$$s(0, t) = \\beta_0 + \\beta_1 \\Bigg [ \\frac{1 - \\exp(-\\frac{t}{\\tau})}{\\frac{t}{\\tau}} \\Bigg ] + \\beta_2 \\Bigg [ \\frac{1 - \\exp(-\\frac{t}{\\tau})}{\\frac{t}{\\tau}} - \\exp(-\\frac{t}{\\tau}) \\Bigg ]$$\n",
    "\n",
    "$$\\argmin_{\\beta_0, \\beta_1, \\beta_2, \\tau} \\sum_{i = 1}^{n} \\Bigg  (  y - S(0, t) \\Bigg)^2$$"
   ],
   "metadata": {}
  },
  {
   "cell_type": "code",
   "execution_count": 111,
   "source": [
    "def get_spot_rate_iteration(tau, t, y):\n",
    "    factors = collection_of_factors(t, tau)\n",
    "    lstsq_res = lstsq(factors, y, rcond=None)\n",
    "    beta_0, beta_1, beta_2 = lstsq_res[0]\n",
    "    return zero_rates(t, beta_0, beta_1, beta_2, tau), lstsq_res\n",
    "\n",
    "def ols_nelson_siegel(t, y, tau):\n",
    "    opt_res = minimize(sum_of_squared_resids, x0=tau, args=(t, y))\n",
    "    curve, lstsq_res = get_spot_rate_iteration(opt_res.x[0], t, y)\n",
    "    beta_0, beta_1, beta_2 = lstsq_res[0]\n",
    "    return beta_0, beta_1, beta_2, float(opt_res.x)"
   ],
   "outputs": [],
   "metadata": {}
  },
  {
   "cell_type": "markdown",
   "source": [
    "**Implementation: using Nelson-Siegel optimisation functions above to find beta's and tau**"
   ],
   "metadata": {}
  },
  {
   "cell_type": "code",
   "execution_count": 156,
   "source": [
    "y = np.array(df['Yield']/100)\n",
    "t = np.array(df['Weeks to Maturity'])\n",
    "ns_source_test = ols_nelson_siegel(t, y, tau=1.0)\n",
    "beta_0 = ns_source_test[0]\n",
    "beta_1 = ns_source_test[1]\n",
    "beta_2 = ns_source_test[2]\n",
    "tau_1 = ns_source_test[3]"
   ],
   "outputs": [],
   "metadata": {}
  },
  {
   "cell_type": "markdown",
   "source": [
    "**Plotting Nelson-Siegel curve and using a function to find yields on a given week**"
   ],
   "metadata": {}
  },
  {
   "cell_type": "code",
   "execution_count": 163,
   "source": [
    "\n",
    "weeks = np.arange(0, 30*52+1, 1)\n",
    "ns_yields = []\n",
    "\n",
    "fig, ax = plt.subplots()\n",
    "\n",
    "fig.set_size_inches(15, 7)\n",
    "\n",
    "for i in range(len(weeks)):\n",
    "\n",
    "    array = beta_0 + beta_1*((1-np.exp(-i/tau_1))/(i/tau_1))+beta_2*(((1-np.exp(-i/tau_1))/(i/tau_1))-(np.exp(-i/tau_1))) # tracing out the curve\n",
    "    ns_yields.append(array)\n",
    "\n",
    "\n",
    "curve = plot(weeks,ns_yields, color = 'mediumseagreen', linewidth =2.3 )\n",
    "\n",
    "ax.set_ylabel(\"Yield\", fontsize = 13)\n",
    "ax.set_xlabel(\"Weeks to Maturity\", fontsize = 13)\n",
    "ax.set_title(\"Nelson-Siegel Yield Curve\")"
   ],
   "outputs": [
    {
     "output_type": "execute_result",
     "data": {
      "text/plain": [
       "Text(0.5, 1.0, 'Nelson-Siegel Yield Curve')"
      ]
     },
     "metadata": {},
     "execution_count": 163
    },
    {
     "output_type": "display_data",
     "data": {
      "image/png": "[encoded data removed]",
      "text/plain": [
       "<Figure size 1080x504 with 1 Axes>"
      ]
     },
     "metadata": {
      "needs_background": "light"
     }
    }
   ],
   "metadata": {}
  },
  {
   "cell_type": "code",
   "execution_count": 114,
   "source": [
    "def find_point(weeks_to_maturity, curve):\n",
    "\n",
    "    '''\n",
    "    Function to find the yield corresponding to a given week\n",
    "    '''\n",
    "\n",
    "    wtm = \"Weeks to Maturity:\",curve[0].get_xdata()[weeks_to_maturity]\n",
    "    y = \"Yield:\",curve[0].get_ydata()[weeks_to_maturity]\n",
    "    return y, wtm"
   ],
   "outputs": [],
   "metadata": {}
  },
  {
   "cell_type": "markdown",
   "source": [
    "**Bond Pricing**"
   ],
   "metadata": {}
  },
  {
   "cell_type": "markdown",
   "source": [
    "$$P(y, m, n) = \\sum_{i \\in I} \\frac{c}{(1+y/m)^i} + \\frac{F}{(1+y/m)^{mn}}, I \\; \\text{is the set of coupon payment weeks}$$\n",
    "\n",
    "**where $y$ is the designated yield, $m$ is the payment frequency (number of payments per year) and $n$ is the number of years (rounded down to nearest half year)**"
   ],
   "metadata": {}
  },
  {
   "cell_type": "code",
   "execution_count": 164,
   "source": [
    "def get_price_from_yield(y, F, m, c, n):\n",
    "\n",
    "    coupon_repayments = 0\n",
    "\n",
    "    for i in range(1, m*n+1):\n",
    "        coupon_repayments += c/(1+ y/m)**i\n",
    "    \n",
    "    final_payment = F/(1+ y/m)**(m*n)\n",
    "\n",
    "    return coupon_repayments + final_payment"
   ],
   "outputs": [],
   "metadata": {}
  },
  {
   "cell_type": "markdown",
   "source": [
    "**Price for a hypothetical semi-annual coupon bond with one year two weeks to maturity and a coupon rate of 10%.**"
   ],
   "metadata": {}
  },
  {
   "cell_type": "code",
   "execution_count": 116,
   "source": [
    "one_y_two_w = find_point(54, curve)[0][1] # Finding the 54th week yield on the graph"
   ],
   "outputs": [],
   "metadata": {}
  },
  {
   "cell_type": "code",
   "execution_count": 117,
   "source": [
    "yield_curve_one_y_two_w = get_price_from_yield(y = one_y_two_w, F = 100, m = 2, c = 5, n = 1)"
   ],
   "outputs": [],
   "metadata": {}
  },
  {
   "cell_type": "code",
   "execution_count": 169,
   "source": [
    "print(\"Price one year two week bond: \" + str(yield_curve_one_y_two_w))"
   ],
   "outputs": [
    {
     "output_type": "stream",
     "name": "stdout",
     "text": [
      "Price one year two week bond: 109.2003091441666\n"
     ]
    }
   ],
   "metadata": {}
  },
  {
   "cell_type": "markdown",
   "source": [
    "**Price for a hypothetical semi-annual floating-rate coupon bond with two years three months to maturity. The floating coupon rate is tied to the six-month LIBOR interest rate**"
   ],
   "metadata": {}
  },
  {
   "cell_type": "code",
   "execution_count": 170,
   "source": [
    "LIBOR_yield = 0.464/2/100"
   ],
   "outputs": [],
   "metadata": {}
  },
  {
   "cell_type": "code",
   "execution_count": 171,
   "source": [
    "print(\"LIBOR Yield: \" + str(LIBOR_yield))"
   ],
   "outputs": [
    {
     "output_type": "stream",
     "name": "stdout",
     "text": [
      "LIBOR Yield: 0.00232\n"
     ]
    }
   ],
   "metadata": {}
  },
  {
   "cell_type": "code",
   "execution_count": 119,
   "source": [
    "two_y_three_m = find_point(2*52 + 4*3, curve)[0][1]"
   ],
   "outputs": [],
   "metadata": {}
  },
  {
   "cell_type": "code",
   "execution_count": 226,
   "source": [
    "yield_curve_two_y_three_m = get_price_from_yield(y = two_y_three_m, F = 100, m = 2, c = LIBOR_yield*100, n = 2)"
   ],
   "outputs": [],
   "metadata": {}
  },
  {
   "cell_type": "code",
   "execution_count": 227,
   "source": [
    "print(\"Price two year three month floating rate bond: \" + str(yield_curve_two_y_three_m))"
   ],
   "outputs": [
    {
     "output_type": "stream",
     "name": "stdout",
     "text": [
      "Price two year three month floating rate bond: 98.21719068444172\n"
     ]
    }
   ],
   "metadata": {}
  },
  {
   "cell_type": "markdown",
   "source": [
    "**Duration Calculation**"
   ],
   "metadata": {}
  },
  {
   "cell_type": "markdown",
   "source": [
    "<!-- $$\\frac{\\sum_{k=1}^n PV_k}{P} \\times t_k$$ -->"
   ],
   "metadata": {}
  },
  {
   "cell_type": "markdown",
   "source": [
    "$$D(y, F, m, c, n) = \\frac{ \\sum_{k = 1}^{n-1} \\frac{c_k}{(1+y/m)^k} (\\frac{k}{m})}{\\sum_{k = 1}^{n-1}\\frac{c_k}{(1+y/m)^k}} +  \\frac{\\frac{F+c_n}{(1+y/m)^n} (\\frac{n}{m})}{\\frac{c_n}{(1+y/m)^n}}$$\n",
    "\n",
    "**where $y$ is the designated yield, F is the face value, m is the payment-frequency (times per year), c is the coupon and n is the number of payment periods.**"
   ],
   "metadata": {}
  },
  {
   "cell_type": "markdown",
   "source": [
    "*Note: $n$ differs from the pricing formula. $n$ is periods here and years for pricing*."
   ],
   "metadata": {}
  },
  {
   "cell_type": "code",
   "execution_count": 261,
   "source": [
    "def get_duration(y, F, m, c, n):\n",
    "\n",
    "    numerator = 0\n",
    "    denominator = 0\n",
    "\n",
    "    for k in range(1, n+1):\n",
    "\n",
    "        if k == n:\n",
    "            c = F + c\n",
    "\n",
    "        numerator += (c / (1 + y/m)**k) * (k/m)\n",
    "        denominator += (c / (1 + y/m)**k)\n",
    "\n",
    "    return numerator/denominator"
   ],
   "outputs": [],
   "metadata": {}
  },
  {
   "cell_type": "markdown",
   "source": [
    "**Duration for a hypothetical semi-annual coupon bond with one year two weeks to maturity and a coupon rate of 10%.**"
   ],
   "metadata": {}
  },
  {
   "cell_type": "code",
   "execution_count": 262,
   "source": [
    "get_duration(one_y_two_w, F = 100, m = 2, c = 5, n = 2)"
   ],
   "outputs": [
    {
     "output_type": "execute_result",
     "data": {
      "text/plain": [
       "0.9771916001348062"
      ]
     },
     "metadata": {},
     "execution_count": 262
    }
   ],
   "metadata": {}
  },
  {
   "cell_type": "markdown",
   "source": [
    "**Duration for a hypothetical semi-annual floating-rate coupon bond with two years three months to maturity. The floating coupon rate is tied to the six-month LIBOR interest rate**"
   ],
   "metadata": {}
  },
  {
   "cell_type": "code",
   "execution_count": 263,
   "source": [
    "get_duration(two_y_three_m, F = 100, m = 2, c = LIBOR_yield*100, n = 4)"
   ],
   "outputs": [
    {
     "output_type": "execute_result",
     "data": {
      "text/plain": [
       "1.9929937853568667"
      ]
     },
     "metadata": {},
     "execution_count": 263
    }
   ],
   "metadata": {}
  },
  {
   "cell_type": "markdown",
   "source": [
    "# Bootstrapping"
   ],
   "metadata": {}
  },
  {
   "cell_type": "markdown",
   "source": [
    "*Note: We are assuming maturities follow calendar structure (may not necessarily be 100% accurate relative to days to maturity, especially for short maturities)*"
   ],
   "metadata": {}
  },
  {
   "cell_type": "code",
   "execution_count": 230,
   "source": [
    "df['Tenor time'] = [1/12, 2/12, 3/12, 6/12, 1, 2, 3, 5, 7, 10, 20, 30]\n",
    "df['Tenor time'] = [i*52 for i in df[\"Tenor time\"]] # And in weeks"
   ],
   "outputs": [],
   "metadata": {}
  },
  {
   "cell_type": "markdown",
   "source": [
    "**Setting up full repayment schedule including all half-years from one year onwards**"
   ],
   "metadata": {}
  },
  {
   "cell_type": "code",
   "execution_count": 231,
   "source": [
    "maturities_list = [1/12, 2/12, 3/12, 6/12, 1]\n",
    "maturities_list += np.arange(1.5, 30.5, 0.5).tolist()\n",
    "maturities_df = pd.DataFrame(maturities_list, columns = ['Maturity'])*52 # In weeks again"
   ],
   "outputs": [],
   "metadata": {}
  },
  {
   "cell_type": "code",
   "execution_count": 232,
   "source": [
    "coupons_full_list = []\n",
    "coupons = iter([value for value in df['Coupon'] if value != 0])\n",
    "\n",
    "for row in range(len(maturities_df)):\n",
    "    if maturities_df.loc[row, 'Maturity'] in list(df[\"Tenor time\"].iloc[5:]):\n",
    "        maturities_df.loc[row, \"Coupon\"] = next(coupons)\n",
    "    else:\n",
    "        maturities_df.loc[row, \"Coupon\"] = 0"
   ],
   "outputs": [],
   "metadata": {}
  },
  {
   "cell_type": "code",
   "execution_count": 233,
   "source": [
    "Prices_full_list = []\n",
    "Prices = iter([value for value in df['Market Price'] if value != 0])\n",
    "\n",
    "for row in range(len(maturities_df)):\n",
    "    if maturities_df.loc[row, 'Maturity'] in list(df[\"Tenor time\"].iloc[5:]):\n",
    "        maturities_df.loc[row, \"Market Price\"] = next(Prices)\n",
    "    else:\n",
    "        maturities_df.loc[row, \"Market Price\"] = 0"
   ],
   "outputs": [],
   "metadata": {}
  },
  {
   "cell_type": "code",
   "execution_count": 234,
   "source": [
    "maturities_df['Price'] = 0\n",
    "maturities_df['Rate'] = 0"
   ],
   "outputs": [],
   "metadata": {}
  },
  {
   "cell_type": "markdown",
   "source": [
    "**Converting from yield-to-maturity to spot rate for zero-coupond bonds**"
   ],
   "metadata": {}
  },
  {
   "cell_type": "markdown",
   "source": [
    "$$S(P, m, F) = (\\frac{F}{P})^{1/m} - 1$$\n",
    "\n",
    "where $P$ is the market price, $m$ is the time-to-maturity and $F$ is the face value of the bond."
   ],
   "metadata": {}
  },
  {
   "cell_type": "code",
   "execution_count": 235,
   "source": [
    "def zero_coupon_spot_rate(market_price, tt_maturity, F= 100):\n",
    "    spot_rate = ((F/market_price)**(1/tt_maturity) - 1) \n",
    "    return spot_rate"
   ],
   "outputs": [],
   "metadata": {}
  },
  {
   "cell_type": "code",
   "execution_count": 236,
   "source": [
    "spot_rates = []\n",
    "for i in range(5):\n",
    "    spot_rates.append(zero_coupon_spot_rate(df['Market Price'].iloc[i], df['Years to Maturity'].iloc[i]))"
   ],
   "outputs": [],
   "metadata": {}
  },
  {
   "cell_type": "code",
   "execution_count": 237,
   "source": [
    "spot_rates = spot_rates + [0 for i in range(len(maturities_df) -5)]"
   ],
   "outputs": [],
   "metadata": {}
  },
  {
   "cell_type": "code",
   "execution_count": 238,
   "source": [
    "maturities_df['Rate'] = spot_rates"
   ],
   "outputs": [],
   "metadata": {}
  },
  {
   "cell_type": "markdown",
   "source": [
    "**Removing the zero-coupon rates that aren't included in the pricing formula**"
   ],
   "metadata": {}
  },
  {
   "cell_type": "code",
   "execution_count": 239,
   "source": [
    "maturities_df = maturities_df[3:].reset_index(drop = True)"
   ],
   "outputs": [],
   "metadata": {}
  },
  {
   "cell_type": "markdown",
   "source": [
    "**The fun begins...**"
   ],
   "metadata": {}
  },
  {
   "cell_type": "markdown",
   "source": [
    "**We use linear interpolation to find missing spot (discount) rates that lie between our given US treasury bonds**"
   ],
   "metadata": {}
  },
  {
   "cell_type": "code",
   "execution_count": 240,
   "source": [
    "def  linear_interpolation(t_prime, t, T, s_t, s_T):\n",
    "    numerator = (T - t_prime)*s_t + (t_prime-t)*s_T\n",
    "    denominator = T - t\n",
    "    return numerator/denominator"
   ],
   "outputs": [],
   "metadata": {}
  },
  {
   "cell_type": "code",
   "execution_count": 241,
   "source": [
    "global maturities_df"
   ],
   "outputs": [],
   "metadata": {}
  },
  {
   "cell_type": "markdown",
   "source": [
    "**Often, we know the upper bound and the desired interpolated rate, but not the lower bound**"
   ],
   "metadata": {}
  },
  {
   "cell_type": "code",
   "execution_count": 242,
   "source": [
    "def get_lower_bound_interpolation(midpoint, upper_bound):\n",
    "    return 2 * midpoint - upper_bound"
   ],
   "outputs": [],
   "metadata": {}
  },
  {
   "cell_type": "markdown",
   "source": [
    "**To bootstrap, we iterate through the dataframe (six-month payment schedule) until we reach our first unknown spot rate - in the first case 1.5 years. We then look forward to find $T$, which is the next period that has a given coupon and market price. This is our desired bootstrap rate - in the first case 2 years. To find this bootstrap rate, we use the theoretical bond pricing formula as well as the linear interpolation formula.**"
   ],
   "metadata": {}
  },
  {
   "cell_type": "markdown",
   "source": [
    "$$P_{2y} = \\frac{c/2}{(1+ s_{0.5y}/{2})^1} + \\frac{c/2}{(1+ s_{1y}/{2})^2} + \\frac{c/2}{(1+ s_{1.5y}/{2})^3} + \\frac{c/2+F}{(1+ s_{2y}/{2})^4} $$\n",
    "\n",
    "where $s_m$ is the spot rate on a bond with maturity $m$ (in years) "
   ],
   "metadata": {}
  },
  {
   "cell_type": "markdown",
   "source": [
    "**But notice, we have $s_{1.5y}$ and $s_{2y}$ unknown! We want to express $s_{1.5y}$ in terms of $s_{2y}$ to have one unknown** "
   ],
   "metadata": {}
  },
  {
   "cell_type": "markdown",
   "source": [
    "$$s_{t^{\\prime}} = \\frac{(T - t^{\\prime})s_t + (t^{\\prime} - t)s_T}{T-t}$$"
   ],
   "metadata": {}
  },
  {
   "cell_type": "markdown",
   "source": [
    "$$\\implies s_{t^{1.5y}} =  \\frac{(2 - 1.5)s_t + (1.5 - 1)s_T}{2-1} = 0.5s_t + 0.5s_T$$"
   ],
   "metadata": {}
  },
  {
   "cell_type": "markdown",
   "source": [
    "**In the first case, $t^{\\prime} = 1.5, \\; t = 1, \\; T = 2$. Hence the pricing formula becomes:**"
   ],
   "metadata": {}
  },
  {
   "cell_type": "markdown",
   "source": [
    "$$P_{2y} = \\frac{c/2}{(1+ s_{0.5y}/{2})^1} + \\frac{c/2}{(1+ s_{1y}/{2})^2} + \\frac{c/2}{(1+ \\frac{0.5s_{1y} + 0.5s_{2y}}{2})^3} + \\frac{c/2+F}{(1+ s_{2y}/{2})^4} $$"
   ],
   "metadata": {}
  },
  {
   "cell_type": "markdown",
   "source": [
    "**And look! It's an equation with one unknown.**"
   ],
   "metadata": {}
  },
  {
   "cell_type": "markdown",
   "source": [
    "**Repeat this process for future unknown spot rates between known bonds. The following code does this iteratively:**"
   ],
   "metadata": {}
  },
  {
   "cell_type": "code",
   "execution_count": 243,
   "source": [
    "class Bootstrap_the_yield_curve:\n",
    "\n",
    "    def __init__(self, maturities_df) -> None:\n",
    "        self.maturities_df = maturities_df\n",
    "\n",
    "    def find_spot_rate_given_maturity(self, guess_for_x, m):\n",
    "        \n",
    "        weeks = maturities_df[maturities_df['Maturity'] == m]\n",
    "\n",
    "        T = len(maturities_df[0: int(weeks.index.values + 1)])\n",
    "\n",
    "        market_price = self.maturities_df[self.maturities_df[\"Maturity\"] == m]['Market Price']\n",
    "        c = self.maturities_df[self.maturities_df[\"Maturity\"] == m][\"Coupon\"]\n",
    "        \n",
    "        Net_PV = 0\n",
    "\n",
    "        for i in range(0, T-1):\n",
    "\n",
    "            spot_rate = self.maturities_df.iloc[i][\"Rate\"]\n",
    "\n",
    "            if spot_rate != 0:     \n",
    "                Net_PV += (c/2)/(1 + spot_rate/2)**(i+1)\n",
    "\n",
    "            else:\n",
    "\n",
    "                first_t_prime_index = int(self.maturities_df[self.maturities_df['Rate'] == 0].index[0])\n",
    "                big_T = list(self.maturities_df.iloc[first_t_prime_index:][self.maturities_df['Coupon'] != 0]['Maturity'])[0]\n",
    "                self.big_T_index = int(list(self.maturities_df.loc[first_t_prime_index:][self.maturities_df['Coupon'] != 0].index)[0])\n",
    "\n",
    "\n",
    "                if self.big_T_index - first_t_prime_index > 0:\n",
    "                    \n",
    "\n",
    "                    for t_prime_index in range(first_t_prime_index, self.big_T_index):\n",
    "\n",
    "                    \n",
    "                        t_prime = self.maturities_df.loc[t_prime_index, \"Maturity\"]\n",
    "                        t = get_lower_bound_interpolation(t_prime, big_T)\n",
    "\n",
    "                        s_t = self.maturities_df.loc[list(self.maturities_df[self.maturities_df[\"Maturity\"] == t].index)[0], \"Rate\"]\n",
    "                        \n",
    "                        interpolated_rate = linear_interpolation(t_prime, t, big_T, s_t, guess_for_x)\n",
    "                        Net_PV += (c/2)/(1 + (interpolated_rate)/2)**(i+1)\n",
    "                    \n",
    "                        self.maturities_df.loc[t_prime_index, \"Rate\"] = interpolated_rate\n",
    "\n",
    "        FV = 100\n",
    "        Net_PV += (FV + c/2)/(1+guess_for_x/2)**(T)\n",
    "        Net_PV -= float(market_price)\n",
    "\n",
    "        return Net_PV\n",
    "    \n",
    "    def optimise_unknown_spot_rate(self, x):\n",
    "\n",
    "        for m in list(self.maturities_df[self.maturities_df['Coupon'] != 0]['Maturity']):\n",
    "            \n",
    "            self.big_T_index = maturities_df[maturities_df['Maturity'] == m].index\n",
    "\n",
    "            bootstrapped = fsolve(self.find_spot_rate_given_maturity, x, args = (m))[0]\n",
    "\n",
    "            self.maturities_df.loc[self.big_T_index, \"Rate\"] = bootstrapped\n",
    "\n",
    "        return self.maturities_df"
   ],
   "outputs": [],
   "metadata": {}
  },
  {
   "cell_type": "code",
   "execution_count": 244,
   "source": [
    "bootstrapped_rates = Bootstrap_the_yield_curve(maturities_df.copy()).optimise_unknown_spot_rate(0.01)"
   ],
   "outputs": [],
   "metadata": {}
  },
  {
   "cell_type": "markdown",
   "source": [
    "**Combining known short-term spot rates with found bootstrapped rates**"
   ],
   "metadata": {}
  },
  {
   "cell_type": "code",
   "execution_count": 245,
   "source": [
    "bootstrapped = list(bootstrapped_rates[bootstrapped_rates[\"Coupon\"] != 0]['Rate'])\n",
    "zero_coupon_spot_rates = spot_rates[:5]\n",
    "zero_coupon_spot_rates += bootstrapped\n",
    "yield_curve = pd.DataFrame(zero_coupon_spot_rates, index = df[\"Years to Maturity\"])\n",
    "yield_curve.columns = ['Bootstrapped Yields']"
   ],
   "outputs": [],
   "metadata": {}
  },
  {
   "cell_type": "code",
   "execution_count": 246,
   "source": [
    "yield_curve"
   ],
   "outputs": [
    {
     "output_type": "execute_result",
     "data": {
      "text/html": [
       "<div>\n",
       "<style scoped>\n",
       "    .dataframe tbody tr th:only-of-type {\n",
       "        vertical-align: middle;\n",
       "    }\n",
       "\n",
       "    .dataframe tbody tr th {\n",
       "        vertical-align: top;\n",
       "    }\n",
       "\n",
       "    .dataframe thead th {\n",
       "        text-align: right;\n",
       "    }\n",
       "</style>\n",
       "<table border=\"1\" class=\"dataframe\">\n",
       "  <thead>\n",
       "    <tr style=\"text-align: right;\">\n",
       "      <th></th>\n",
       "      <th>Bootstrapped Yields</th>\n",
       "    </tr>\n",
       "    <tr>\n",
       "      <th>Years to Maturity</th>\n",
       "      <th></th>\n",
       "    </tr>\n",
       "  </thead>\n",
       "  <tbody>\n",
       "    <tr>\n",
       "      <th>0.083333</th>\n",
       "      <td>0.000288</td>\n",
       "    </tr>\n",
       "    <tr>\n",
       "      <th>0.166667</th>\n",
       "      <td>0.000780</td>\n",
       "    </tr>\n",
       "    <tr>\n",
       "      <th>0.250000</th>\n",
       "      <td>0.001998</td>\n",
       "    </tr>\n",
       "    <tr>\n",
       "      <th>0.500000</th>\n",
       "      <td>0.004131</td>\n",
       "    </tr>\n",
       "    <tr>\n",
       "      <th>1.000000</th>\n",
       "      <td>0.007221</td>\n",
       "    </tr>\n",
       "    <tr>\n",
       "      <th>2.000000</th>\n",
       "      <td>0.008822</td>\n",
       "    </tr>\n",
       "    <tr>\n",
       "      <th>3.000000</th>\n",
       "      <td>0.011386</td>\n",
       "    </tr>\n",
       "    <tr>\n",
       "      <th>5.000000</th>\n",
       "      <td>0.015290</td>\n",
       "    </tr>\n",
       "    <tr>\n",
       "      <th>7.000000</th>\n",
       "      <td>0.014254</td>\n",
       "    </tr>\n",
       "    <tr>\n",
       "      <th>10.000000</th>\n",
       "      <td>0.014793</td>\n",
       "    </tr>\n",
       "    <tr>\n",
       "      <th>20.000000</th>\n",
       "      <td>0.022627</td>\n",
       "    </tr>\n",
       "    <tr>\n",
       "      <th>30.000000</th>\n",
       "      <td>0.022269</td>\n",
       "    </tr>\n",
       "  </tbody>\n",
       "</table>\n",
       "</div>"
      ],
      "text/plain": [
       "                   Bootstrapped Yields\n",
       "Years to Maturity                     \n",
       "0.083333                      0.000288\n",
       "0.166667                      0.000780\n",
       "0.250000                      0.001998\n",
       "0.500000                      0.004131\n",
       "1.000000                      0.007221\n",
       "2.000000                      0.008822\n",
       "3.000000                      0.011386\n",
       "5.000000                      0.015290\n",
       "7.000000                      0.014254\n",
       "10.000000                     0.014793\n",
       "20.000000                     0.022627\n",
       "30.000000                     0.022269"
      ]
     },
     "metadata": {},
     "execution_count": 246
    }
   ],
   "metadata": {}
  },
  {
   "cell_type": "markdown",
   "source": [
    "**Plotting the three curves: Real, Nelson-Siegel and Bootstrapped**"
   ],
   "metadata": {}
  },
  {
   "cell_type": "code",
   "execution_count": 247,
   "source": [
    "import matplotlib.pyplot as plt\n",
    "fig, ax = plt.subplots()\n",
    "\n",
    "yield_ = np.array(df['Yield']/100)\n",
    "t_years = df['Years to Maturity']\n",
    "yearly_yields = []\n",
    "\n",
    "ns_source_test = ols_nelson_siegel(t_years, yield_, tau=1.0)\n",
    "beta1 = ns_source_test[0]\n",
    "beta2 = ns_source_test[1]\n",
    "beta3 = ns_source_test[2]\n",
    "tau = ns_source_test[3]\n",
    "\n",
    "for i in t_years:\n",
    "    array = beta1 + beta2*((1-np.exp(-i/tau))/(i/tau))+beta3*(((1-np.exp(-i/tau))/(i/tau))-(np.exp(-i/tau)))\n",
    "    yearly_yields.append(array)\n",
    "\n",
    "ax.plot(t_years, yearly_yields, label = \"Nelson-Siegel Yield Curve\", color = 'mediumseagreen', linewidth = 2.3)\n",
    "fig.set_size_inches(13, 7)\n",
    "ax.plot(yield_curve.index,yield_curve, label = \"Bootstrapped Yield Curve\", color = 'pink', linewidth = 2.3)\n",
    "real_yields = pd.DataFrame(df[\"Yield\"]/100)\n",
    "real_yields = real_yields.set_index(df['Years to Maturity'])\n",
    "ax.plot(real_yields, label = \"Real Yield Curve\", color = 'blue', linewidth = 2.3)\n",
    "ax.set_title(\"Bootstrapped versus original Yield Curve\")\n",
    "ax.set_ylabel(\"Yield\")\n",
    "ax.set_xlabel(\"Maturity (years)\")\n",
    "ax.legend()"
   ],
   "outputs": [
    {
     "output_type": "execute_result",
     "data": {
      "text/plain": [
       "<matplotlib.legend.Legend at 0x7fac758033d0>"
      ]
     },
     "metadata": {},
     "execution_count": 247
    },
    {
     "output_type": "display_data",
     "data": {
      "image/png": "[encoded data removed]",
      "text/plain": [
       "<Figure size 936x504 with 1 Axes>"
      ]
     },
     "metadata": {
      "needs_background": "light"
     }
    }
   ],
   "metadata": {}
  },
  {
   "cell_type": "code",
   "execution_count": 248,
   "source": [
    "slope_between_1y_and_2y = (yield_curve['Bootstrapped Yields'].iloc[5] -  yield_curve['Bootstrapped Yields'].iloc[4])/(df['Weeks to Maturity'].iloc[5] -  df['Weeks to Maturity'].iloc[4])"
   ],
   "outputs": [],
   "metadata": {}
  },
  {
   "cell_type": "code",
   "execution_count": 249,
   "source": [
    "slope_between_1y_and_2y"
   ],
   "outputs": [
    {
     "output_type": "execute_result",
     "data": {
      "text/plain": [
       "3.0284660437026407e-05"
      ]
     },
     "metadata": {},
     "execution_count": 249
    }
   ],
   "metadata": {}
  },
  {
   "cell_type": "code",
   "execution_count": 250,
   "source": [
    "yield_bootstrap_one_y_2_weeks = yield_curve['Bootstrapped Yields'].iloc[4] + slope_between_1y_and_2y*(2)"
   ],
   "outputs": [],
   "metadata": {}
  },
  {
   "cell_type": "code",
   "execution_count": 251,
   "source": [
    "yield_bootstrap_one_y_2_weeks"
   ],
   "outputs": [
    {
     "output_type": "execute_result",
     "data": {
      "text/plain": [
       "0.00728133498995575"
      ]
     },
     "metadata": {},
     "execution_count": 251
    }
   ],
   "metadata": {}
  },
  {
   "cell_type": "code",
   "execution_count": 252,
   "source": [
    "yield_curve_plot = plot(df['Weeks to Maturity'], yield_curve)"
   ],
   "outputs": [
    {
     "output_type": "display_data",
     "data": {
      "image/png": "[encoded data removed]",
      "text/plain": [
       "<Figure size 936x504 with 1 Axes>"
      ]
     },
     "metadata": {
      "needs_background": "light"
     }
    }
   ],
   "metadata": {}
  },
  {
   "cell_type": "markdown",
   "source": [
    "**Price for a hypothetical semi-annual coupon bond with one year two weeks to maturity and a coupon rate of 10%.**"
   ],
   "metadata": {}
  },
  {
   "cell_type": "code",
   "execution_count": 271,
   "source": [
    "price_bootstrap_one_y_2_weeks = get_price_from_yield(yield_bootstrap_one_y_2_weeks, 100, 2, 5, 1)"
   ],
   "outputs": [],
   "metadata": {}
  },
  {
   "cell_type": "code",
   "execution_count": 272,
   "source": [
    "print(\"Bootstrap Price: \" + str(price_bootstrap_one_y_2_weeks))"
   ],
   "outputs": [
    {
     "output_type": "stream",
     "name": "stdout",
     "text": [
      "Bootstrap Price: 109.22147750001557\n"
     ]
    }
   ],
   "metadata": {}
  },
  {
   "cell_type": "markdown",
   "source": [
    "**Price for a hypothetical semi-annual floating-rate coupon bond with two years three months to maturity. The floating coupon rate is tied to the six-month LIBOR interest rate**"
   ],
   "metadata": {}
  },
  {
   "cell_type": "code",
   "execution_count": 282,
   "source": [
    "slope_between_2y_and_3y = (yield_curve['Bootstrapped Yields'].iloc[6] -  yield_curve['Bootstrapped Yields'].iloc[5])/(df['Weeks to Maturity'].iloc[6] -  df['Weeks to Maturity'].iloc[5])"
   ],
   "outputs": [],
   "metadata": {}
  },
  {
   "cell_type": "code",
   "execution_count": 279,
   "source": [
    "yield_bootstrap_2_y_3m = yield_curve['Bootstrapped Yields'].iloc[5] + slope_between_2y_and_3y*(12)"
   ],
   "outputs": [],
   "metadata": {}
  },
  {
   "cell_type": "code",
   "execution_count": 284,
   "source": [
    "price_bootstrap_two_y_3_months = get_price_from_yield(y = yield_bootstrap_2_y_3m, F = 100, m = 2, c = LIBOR_yield*100, n = 2)"
   ],
   "outputs": [],
   "metadata": {}
  },
  {
   "cell_type": "code",
   "execution_count": 285,
   "source": [
    "print(\"Bootstrap Price: \" + str(price_bootstrap_two_y_3_months))"
   ],
   "outputs": [
    {
     "output_type": "stream",
     "name": "stdout",
     "text": [
      "Bootstrap Price: 99.05182811959419\n"
     ]
    }
   ],
   "metadata": {}
  },
  {
   "cell_type": "markdown",
   "source": [
    "**Duration for a hypothetical semi-annual coupon bond with one year two weeks to maturity and a coupon rate of 10%.**"
   ],
   "metadata": {}
  },
  {
   "cell_type": "code",
   "execution_count": 287,
   "source": [
    "get_duration(yield_bootstrap_one_y_2_weeks, F = 100, m = 2, c = 5, n = 2)"
   ],
   "outputs": [
    {
     "output_type": "execute_result",
     "data": {
      "text/plain": [
       "0.9771937589178683"
      ]
     },
     "metadata": {},
     "execution_count": 287
    }
   ],
   "metadata": {}
  },
  {
   "cell_type": "markdown",
   "source": [
    "**Duration for a hypothetical semi-annual floating-rate coupon bond with two years three months to maturity. The floating coupon rate is tied to the six-month LIBOR interest rate**"
   ],
   "metadata": {}
  },
  {
   "cell_type": "code",
   "execution_count": 288,
   "source": [
    "get_duration(yield_bootstrap_2_y_3m, F = 100, m = 2, c = LIBOR_yield*100, n = 4)"
   ],
   "outputs": [
    {
     "output_type": "execute_result",
     "data": {
      "text/plain": [
       "1.9930282450384371"
      ]
     },
     "metadata": {},
     "execution_count": 288
    }
   ],
   "metadata": {}
  }
 ],
 "metadata": {
  "kernelspec": {
   "name": "python3",
   "display_name": "Python 3.8.8 64-bit ('base': conda)"
  },
  "language_info": {
   "codemirror_mode": {
    "name": "ipython",
    "version": 3
   },
   "file_extension": ".py",
   "mimetype": "text/x-python",
   "name": "python",
   "nbconvert_exporter": "python",
   "pygments_lexer": "ipython3",
   "version": "3.8.8"
  },
  "interpreter": {
   "hash": "4e7a58de4b7e505b0e82f0adcc21bb9621f61c2c1c0bdf66b0394a18a0c298a7"
  }
 },
 "nbformat": 4,
 "nbformat_minor": 2
}